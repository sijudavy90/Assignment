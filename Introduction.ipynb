{
 "cells": [
  {
   "cell_type": "markdown",
   "metadata": {},
   "source": [
    "## Practice\n"
   ]
  },
  {
   "cell_type": "markdown",
   "metadata": {},
   "source": [
    "## SOLUTION TO ASSIGNMENT\n",
    "## My name is Sijuade and I am writing a script for quadratic expression\n"
   ]
  },
  {
   "cell_type": "code",
   "execution_count": 4,
   "metadata": {
    "scrolled": true
   },
   "outputs": [
    {
     "name": "stdout",
     "output_type": "stream",
     "text": [
      "-2.8768943743823394\n",
      "-11.123105625617661\n"
     ]
    }
   ],
   "source": [
    "# I am to write a script that accept the 3 input variables (a,b,c) for a quadratic equation\n",
    "# Let the quadratic equation be given as kx**2+lx+m = 0\n",
    "a = 2\n",
    "b = 7\n",
    "c = 4\n",
    "import math\n",
    "# The right syntax is import math not Math sir\n",
    "\n",
    "x = (-b + math.sqrt(b**2-(4*a*c)))/ 2*a\n",
    "y = (-b - math.sqrt(b**2-(4*a*c)))/ 2*a\n",
    "print(x)\n",
    "print(y)"
   ]
  },
  {
   "cell_type": "markdown",
   "metadata": {},
   "source": [
    "### Instructor's Comment\n",
    " > **Great workdone**, the code is functional but little correction is needed, check the cell below sir "
   ]
  },
  {
   "cell_type": "code",
   "execution_count": 3,
   "metadata": {},
   "outputs": [
    {
     "name": "stdout",
     "output_type": "stream",
     "text": [
      "Enter the coefficient for a :4\n",
      "Enter the coefficient for b :6\n",
      "Enter the coefficient for c :7\n"
     ]
    }
   ],
   "source": [
    "\n",
    "# *********************1***************************** #\n",
    "# The assignment says the a, b, c should be cast to float data type\n",
    "# That is missing in this code sir\n",
    "# You can check the last class for this\n",
    "\n",
    "#*********************2******************************#\n",
    "# The values for are expected to be inputed by the users\n",
    "# we ought to have something like this\n",
    "a = input(\"Enter the coefficient for a :\")\n",
    "b = input(\"Enter the coefficient for b :\")\n",
    "c = input(\"Enter the coefficient for c :\")\n",
    "\n",
    "#*********************3*********************************#\n",
    "# It's also good to take note that if b**2-(4*a*c)[Determinant] is less than 0, math.sqrt will throw\n",
    "# an error, when we get to error handling, we will know how to handle this later, so this does not need \n",
    "# attention.\n",
    "\n",
    "#*******************4***********************************#\n",
    "# Rename the file name from introduction to quadratic_solution sir"
   ]
  },
  {
   "cell_type": "code",
   "execution_count": null,
   "metadata": {},
   "outputs": [],
   "source": []
  }
 ],
 "metadata": {
  "kernelspec": {
   "display_name": "Python 3",
   "language": "python",
   "name": "python3"
  },
  "language_info": {
   "codemirror_mode": {
    "name": "ipython",
    "version": 3
   },
   "file_extension": ".py",
   "mimetype": "text/x-python",
   "name": "python",
   "nbconvert_exporter": "python",
   "pygments_lexer": "ipython3",
   "version": "3.8.3"
  }
 },
 "nbformat": 4,
 "nbformat_minor": 2
}
